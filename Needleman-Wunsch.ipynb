{
  "cells": [
    {
      "cell_type": "markdown",
      "id": "buried-invention",
      "metadata": {
        "id": "buried-invention"
      },
      "source": [
        "# CMPE 549: Bioinformatics, Fall 2023\n",
        "## Assignment I -  Pairwise Sequence Global Alignment\n",
        "\n",
        "Please describe your work clearly since this notebook is considered as your report."
      ]
    },
    {
      "cell_type": "code",
      "execution_count": 10,
      "id": "b65394aa",
      "metadata": {
        "id": "b65394aa"
      },
      "outputs": [],
      "source": [
        "import random\n",
        "import requests\n",
        "import numpy as np\n",
        "import pandas as pd\n",
        "\n",
        "from Bio.Align import substitution_matrices\n",
        "from Bio import Align"
      ]
    },
    {
      "cell_type": "markdown",
      "id": "united-adult",
      "metadata": {
        "id": "united-adult"
      },
      "source": [
        "### Needleman Wunsch (Global Sequence Alignment)"
      ]
    },
    {
      "cell_type": "code",
      "source": [
        "import numpy as np\n",
        "import pandas as pd\n",
        "\n",
        "def initialize_matrix(seq1, seq2, gap_penalty):\n",
        "    # Initialize the matrix with zeros\n",
        "    matrix = np.zeros((len(seq1) + 1, len(seq2) + 1))\n",
        "\n",
        "    # Fill in the first row and column with incremental gap penalties\n",
        "    for i in range(1, len(seq1) + 1):\n",
        "        matrix[i, 0] = gap_penalty * i\n",
        "\n",
        "    for j in range(1, len(seq2) + 1):\n",
        "        matrix[0, j] = gap_penalty * j\n",
        "\n",
        "    return matrix\n",
        "\n",
        "def parse_scoring_matrix(dataframe):\n",
        "        # Get the list of amino acids from the index of the input DataFrame\n",
        "    amino_acids = dataframe.index.tolist()\n",
        "\n",
        "    # Initialize an empty dictionary to store the scoring matrix\n",
        "    scoring_matrix = {}\n",
        "\n",
        "    # Iterate through rows of the DataFrame, where each row represents an amino acid\n",
        "    for row_amino_acid, row in dataframe.iterrows():\n",
        "        # Convert the scores in the row to a list of floats\n",
        "        scores = row.astype(float).tolist()\n",
        "\n",
        "        # Create a dictionary where keys are amino acids and values are their corresponding scores\n",
        "        scoring_matrix[row_amino_acid] = dict(zip(amino_acids, scores))\n",
        "\n",
        "    # Return the final scoring matrix as a dictionary\n",
        "    return scoring_matrix\n",
        "\n",
        "def needleman_wunsch_algorithm(seq1, seq2, penalty_type, penalty_params):\n",
        "    if penalty_type == 'linear':\n",
        "        return needleman_wunsch_algorithm_linear_penalty(seq1, seq2, penalty_params)\n",
        "    elif penalty_type == 'affine':\n",
        "        return needleman_wunsch_algorithm_affine_penalty(seq1, seq2, penalty_params)\n",
        "    else:\n",
        "        raise ValueError(\"Invalid penalty type. Choose 'linear' or 'affine'.\")\n",
        "\n",
        "def needleman_wunsch_algorithm_linear_penalty(seq1, seq2, penalty_params):\n",
        "    # Extract gap penalty and scoring matrix from the input parameters\n",
        "    gap_penalty = penalty_params['gap_penalty']\n",
        "    scoring_matrix = penalty_params['scoring_matrix']\n",
        "\n",
        "    # Initialize the scoring matrix for dynamic programming\n",
        "    matrix = initialize_matrix(seq1, seq2, gap_penalty)\n",
        "\n",
        "    # Fill in the scoring matrix using the Needleman-Wunsch algorithm\n",
        "    for i in range(1, len(seq1) + 1):\n",
        "        for j in range(1, len(seq2) + 1):\n",
        "            # Calculate the score for a match/mismatch\n",
        "            match_score = matrix[i - 1, j - 1] + scoring_matrix.get(seq1[i-1], {}).get(seq2[j-1], 0)\n",
        "\n",
        "            # Calculate the score for an insertion (gap in seq2)\n",
        "            gap_up_score = matrix[i - 1, j] + gap_penalty  # Change: Add gap_penalty instead of subtracting\n",
        "\n",
        "            # Calculate the score for a deletion (gap in seq1)\n",
        "            gap_left_score = matrix[i, j - 1] + gap_penalty  # Change: Add gap_penalty instead of subtracting\n",
        "\n",
        "            # Update the current cell in the scoring matrix with the maximum score\n",
        "            matrix[i, j] = max(match_score, gap_up_score, gap_left_score)\n",
        "\n",
        "    # Perform traceback to obtain the alignment and additional information\n",
        "    alignment_score, alignment, match_mismatch_score = traceback_linear(matrix, seq1, seq2, gap_penalty, scoring_matrix)\n",
        "\n",
        "    # Return the alignment score, aligned sequences, and match/mismatch score\n",
        "    return alignment_score, alignment, match_mismatch_score\n",
        "\n",
        "\n",
        "\n",
        "def traceback_linear(matrix, seq1, seq2, gap_penalty, scoring_matrix):\n",
        "    # Initialize indices for traceback at the bottom-right corner of the matrix\n",
        "    i, j = len(seq1), len(seq2)\n",
        "\n",
        "    # Initialize lists to store aligned sequences\n",
        "    aligned_seq1, aligned_seq2 = [], []\n",
        "\n",
        "    # Retrieve the overall match/mismatch score from the bottom-right corner of the matrix\n",
        "    match_mismatch_score = matrix[-1, -1]\n",
        "\n",
        "    # Perform traceback until reaching the top-left corner of the matrix\n",
        "    while i > 0 or j > 0:\n",
        "        # Check if the current cell corresponds to a match/mismatch\n",
        "        if i > 0 and j > 0 and matrix[i, j] == matrix[i - 1, j - 1] + scoring_matrix.get(seq1[i-1], {}).get(seq2[j-1], 0):\n",
        "            # Add the aligned characters to the sequences\n",
        "            aligned_seq1.append(seq1[i-1])\n",
        "            aligned_seq2.append(seq2[j-1])\n",
        "            i -= 1\n",
        "            j -= 1\n",
        "        # Check if the current cell corresponds to an insertion (gap in seq2)\n",
        "        elif i > 0 and matrix[i, j] == matrix[i - 1, j] + gap_penalty:  # Change: Add gap_penalty instead of subtracting\n",
        "            # Add the character from seq1 to aligned_seq1 and a gap to aligned_seq2\n",
        "            aligned_seq1.append(seq1[i-1])\n",
        "            aligned_seq2.append('-')\n",
        "            i -= 1\n",
        "        # The current cell corresponds to a deletion (gap in seq1)\n",
        "        else:\n",
        "            # Add a gap to aligned_seq1 and the character from seq2 to aligned_seq2\n",
        "            aligned_seq1.append('-')\n",
        "            aligned_seq2.append(seq2[j-1])\n",
        "            j -= 1\n",
        "\n",
        "\n",
        "    # Reverse the aligned sequences\n",
        "    aligned_seq1.reverse()\n",
        "    aligned_seq2.reverse()\n",
        "\n",
        "    # Return the alignment score, aligned sequences, and match/mismatch score\n",
        "    return matrix[-1, -1], (''.join(aligned_seq1), ''.join(aligned_seq2)), match_mismatch_score\n",
        "\n",
        "\n",
        "def initialize_matrix_affine(seq1, seq2, gap_penalty, gap_extension_penalty):\n",
        "    # Get the lengths of the input sequences\n",
        "    rows, cols = len(seq1) + 1, len(seq2) + 1\n",
        "\n",
        "    # Initialize three matrices for Match, Insertion, and Deletion penalties\n",
        "    M = np.zeros((rows, cols))  # Match matrix\n",
        "    X = np.zeros((rows, cols))  # Insertion matrix\n",
        "    Y = np.zeros((rows, cols))  # Deletion matrix\n",
        "\n",
        "    # Fill in the first column of each matrix with initial gap penalties\n",
        "    for i in range(1, rows):\n",
        "        M[i, 0] = -float('inf')  # M matrix: No opening gap penalty in the first column\n",
        "        X[i, 0] = gap_penalty - (i - 1) * gap_extension_penalty  # X matrix: Incremental gap penalties for opening\n",
        "        Y[i, 0] = -float('inf')  # Y matrix: No opening gap penalty in the first column\n",
        "\n",
        "    # Fill in the first row of each matrix with initial gap penalties\n",
        "    for j in range(1, cols):\n",
        "        M[0, j] = -float('inf')  # M matrix: No opening gap penalty in the first row\n",
        "        X[0, j] = -float('inf')  # X matrix: No opening gap penalty in the first row\n",
        "        Y[0, j] = gap_penalty - (j - 1) * gap_extension_penalty  # Y matrix: Incremental gap penalties for opening\n",
        "\n",
        "    # Return the initialized matrices\n",
        "    return M, X, Y\n",
        "\n",
        "def needleman_wunsch_algorithm_affine_penalty(seq1, seq2, penalty_params):\n",
        "    # Extract parameters from the input\n",
        "    gap_penalty = penalty_params['gap_penalty']\n",
        "    gap_extension_penalty = penalty_params['gap_extension_penalty']\n",
        "    scoring_matrix = penalty_params['scoring_matrix']\n",
        "\n",
        "    # Initialize three matrices for Match, Insertion, and Deletion penalties\n",
        "    M, X, Y = initialize_matrix_affine(seq1, seq2, gap_penalty, gap_extension_penalty)\n",
        "\n",
        "    # Fill in the matrices using the Needleman-Wunsch algorithm with affine gap penalties\n",
        "    for i in range(1, len(seq1) + 1):\n",
        "        for j in range(1, len(seq2) + 1):\n",
        "            # Calculate the score for a match/mismatch\n",
        "            match_score = M[i - 1, j - 1] + scoring_matrix[seq1[i-1]][seq2[j-1]]\n",
        "\n",
        "            # Update the Insertion matrix\n",
        "            X[i, j] = max(X[i - 1, j] + gap_extension_penalty, M[i - 1, j] + gap_penalty)\n",
        "\n",
        "            # Update the Deletion matrix\n",
        "            Y[i, j] = max(Y[i, j - 1] + gap_extension_penalty, M[i, j - 1] + gap_penalty)\n",
        "\n",
        "            # Update the Match matrix with the maximum score among match, insertion, and deletion\n",
        "            M[i, j] = max(match_score, X[i, j], Y[i, j])\n",
        "\n",
        "    # Perform traceback to obtain the alignment\n",
        "    alignment_score, alignment = traceback_affine(M, X, Y, seq1, seq2, gap_penalty, gap_extension_penalty, scoring_matrix)\n",
        "\n",
        "    # Return the alignment score and aligned sequences\n",
        "    return alignment_score, alignment\n",
        "\n",
        "\n",
        "def traceback_affine(M, X, Y, seq1, seq2, gap_penalty, gap_extension_penalty, scoring_matrix):\n",
        "    # Initialize indices for traceback starting from the bottom-right corner of matrices\n",
        "    i, j = len(seq1), len(seq2)\n",
        "\n",
        "    # Initialize lists to store aligned sequences\n",
        "    aligned_seq1, aligned_seq2 = [], []\n",
        "\n",
        "    # Perform traceback until reaching the top-left corner of matrices\n",
        "    while i > 0 or j > 0:\n",
        "        # Check if the current cell corresponds to a match/mismatch\n",
        "        if i > 0 and j > 0 and M[i, j] == M[i - 1, j - 1] + scoring_matrix[seq1[i-1]][seq2[j-1]]:\n",
        "            # Add the aligned characters to the sequences\n",
        "            aligned_seq1.append(seq1[i-1])\n",
        "            aligned_seq2.append(seq2[j-1])\n",
        "            i -= 1\n",
        "            j -= 1\n",
        "        # Check if the current cell corresponds to an insertion (gap in seq2)\n",
        "        elif i > 0 and M[i, j] == X[i, j]:\n",
        "            # Add the character from seq1 to aligned_seq1 and a gap to aligned_seq2\n",
        "            aligned_seq1.append(seq1[i-1])\n",
        "            aligned_seq2.append('-')\n",
        "            i -= 1\n",
        "        # Check if the current cell corresponds to a deletion (gap in seq1)\n",
        "        elif j > 0 and M[i, j] == Y[i, j]:\n",
        "            # Add a gap to aligned_seq1 and the character from seq2 to aligned_seq2\n",
        "            aligned_seq1.append('-')\n",
        "            aligned_seq2.append(seq2[j-1])\n",
        "            j -= 1\n",
        "\n",
        "    # Return the alignment score and the aligned sequences in reverse order\n",
        "    return M[-1, -1], (''.join(aligned_seq1[::-1])+ \"\\n\"+ ''.join(aligned_seq2[::-1]))\n",
        "\n",
        "\n"
      ],
      "metadata": {
        "id": "1FIbliIoRkh2"
      },
      "id": "1FIbliIoRkh2",
      "execution_count": 44,
      "outputs": []
    },
    {
      "cell_type": "code",
      "source": [
        "print(scoring_matrix)"
      ],
      "metadata": {
        "colab": {
          "base_uri": "https://localhost:8080/"
        },
        "id": "Ah-yAdKXqVKh",
        "outputId": "b8877ba9-bbe5-4072-9157-fc4ac0a279f1"
      },
      "id": "Ah-yAdKXqVKh",
      "execution_count": 28,
      "outputs": [
        {
          "output_type": "stream",
          "name": "stdout",
          "text": [
            "   A  R  N  D  C  Q  E  G  H  I  ...  P  S  T   W  Y  V  B  Z  X  *\n",
            "A  4 -1 -2 -2  0 -1 -1  0 -2 -1  ... -1  1  0  -3 -2  0 -2 -1  0 -4\n",
            "R -1  5  0 -2 -3  1  0 -2  0 -3  ... -2 -1 -1  -3 -2 -3 -1  0 -1 -4\n",
            "N -2  0  6  1 -3  0  0  0  1 -3  ... -2  1  0  -4 -2 -3  3  0 -1 -4\n",
            "D -2 -2  1  6 -3  0  2 -1 -1 -3  ... -1  0 -1  -4 -3 -3  4  1 -1 -4\n",
            "C  0 -3 -3 -3  9 -3 -4 -3 -3 -1  ... -3 -1 -1  -2 -2 -1 -3 -3 -2 -4\n",
            "Q -1  1  0  0 -3  5  2 -2  0 -3  ... -1  0 -1  -2 -1 -2  0  3 -1 -4\n",
            "E -1  0  0  2 -4  2  5 -2  0 -3  ... -1  0 -1  -3 -2 -2  1  4 -1 -4\n",
            "G  0 -2  0 -1 -3 -2 -2  6 -2 -4  ... -2  0 -2  -2 -3 -3 -1 -2 -1 -4\n",
            "H -2  0  1 -1 -3  0  0 -2  8 -3  ... -2 -1 -2  -2  2 -3  0  0 -1 -4\n",
            "I -1 -3 -3 -3 -1 -3 -3 -4 -3  4  ... -3 -2 -1  -3 -1  3 -3 -3 -1 -4\n",
            "L -1 -2 -3 -4 -1 -2 -3 -4 -3  2  ... -3 -2 -1  -2 -1  1 -4 -3 -1 -4\n",
            "K -1  2  0 -1 -3  1  1 -2 -1 -3  ... -1  0 -1  -3 -2 -2  0  1 -1 -4\n",
            "M -1 -1 -2 -3 -1  0 -2 -3 -2  1  ... -2 -1 -1  -1 -1  1 -3 -1 -1 -4\n",
            "F -2 -3 -3 -3 -2 -3 -3 -3 -1  0  ... -4 -2 -2   1  3 -1 -3 -3 -1 -4\n",
            "P -1 -2 -2 -1 -3 -1 -1 -2 -2 -3  ...  7 -1 -1  -4 -3 -2 -2 -1 -2 -4\n",
            "S  1 -1  1  0 -1  0  0  0 -1 -2  ... -1  4  1  -3 -2 -2  0  0  0 -4\n",
            "T  0 -1  0 -1 -1 -1 -1 -2 -2 -1  ... -1  1  5  -2 -2  0 -1 -1  0 -4\n",
            "W -3 -3 -4 -4 -2 -2 -3 -2 -2 -3  ... -4 -3 -2  11  2 -3 -4 -3 -2 -4\n",
            "Y -2 -2 -2 -3 -2 -1 -2 -3  2 -1  ... -3 -2 -2   2  7 -1 -3 -2 -1 -4\n",
            "V  0 -3 -3 -3 -1 -2 -2 -3 -3  3  ... -2 -2  0  -3 -1  4 -3 -2 -1 -4\n",
            "B -2 -1  3  4 -3  0  1 -1  0 -3  ... -2  0 -1  -4 -3 -3  4  1 -1 -4\n",
            "Z -1  0  0  1 -3  3  4 -2  0 -3  ... -1  0 -1  -3 -2 -2  1  4 -1 -4\n",
            "X  0 -1 -1 -1 -2 -1 -1 -1 -1 -1  ... -2  0  0  -2 -1 -1 -1 -1 -1 -4\n",
            "* -4 -4 -4 -4 -4 -4 -4 -4 -4 -4  ... -4 -4 -4  -4 -4 -4 -4 -4 -4  1\n",
            "\n",
            "[24 rows x 24 columns]\n"
          ]
        }
      ]
    },
    {
      "cell_type": "markdown",
      "source": [
        "#YOUR OUTPUT"
      ],
      "metadata": {
        "id": "zW2CY0XQQgWV"
      },
      "id": "zW2CY0XQQgWV"
    },
    {
      "cell_type": "markdown",
      "source": [
        "#### Test Case 1 of linear and affine penalty respectively\n"
      ],
      "metadata": {
        "id": "ugkwtIBjP1SF"
      },
      "id": "ugkwtIBjP1SF"
    },
    {
      "cell_type": "code",
      "source": [
        "# Example usage:\n",
        "seq1 = \"PRTEINS\"\n",
        "seq2 = \"PRTWPSEIN\"\n",
        "gap_penalty = -1  # Replace with your desired gap penalty\n",
        "penalty_params = {\n",
        "    'gap_penalty': gap_penalty,\n",
        "    'scoring_matrix': scoring_matrix,\n",
        "}\n",
        "\n",
        "# Perform sequence alignment using the Needleman-Wunsch algorithm with linear gap penalty\n",
        "alignment_score, alignment, match_mismatch_score = needleman_wunsch_algorithm(seq1, seq2, 'linear', penalty_params)\n",
        "\n",
        "# Display the results\n",
        "print(\"Alignment Score:\", alignment_score)\n",
        "print(\"Alignment:\", alignment)\n",
        "print(\"Match/Mismatch Score:\", match_mismatch_score)\n"
      ],
      "metadata": {
        "colab": {
          "base_uri": "https://localhost:8080/"
        },
        "id": "2s0_hDbBxiuB",
        "outputId": "4879453d-b7e3-4574-cc23-d3198d948773"
      },
      "id": "2s0_hDbBxiuB",
      "execution_count": 45,
      "outputs": [
        {
          "output_type": "stream",
          "name": "stdout",
          "text": [
            "Alignment Score: 28.0\n",
            "Alignment: ('PRT---EINS', 'PRTWPSEIN-')\n",
            "Match/Mismatch Score: 28.0\n"
          ]
        }
      ]
    },
    {
      "cell_type": "code",
      "source": [
        "seq1 = \"PRTEINS\"\n",
        "seq2 = \"PRTWPSEIN\"\n",
        "\n",
        "penalty_params = {\n",
        "    'gap_penalty': -10,\n",
        "    'gap_extension_penalty': -1,\n",
        "    'scoring_matrix': scoring_matrix  # Make sure scoring_matrix is defined\n",
        "}\n",
        "\n",
        "affine_alignment_score, affine_alignment = needleman_wunsch_algorithm_affine_penalty(seq1, seq2, penalty_params)\n",
        "print(\"Alignment Score:\", affine_alignment_score)\n",
        "print(\"Alignment:\")\n",
        "print(affine_alignment)\n",
        "\n"
      ],
      "metadata": {
        "colab": {
          "base_uri": "https://localhost:8080/"
        },
        "id": "ocwQPzHp00qA",
        "outputId": "25d6377d-8b88-4625-d0fd-f21430c4d1d8"
      },
      "id": "ocwQPzHp00qA",
      "execution_count": 23,
      "outputs": [
        {
          "output_type": "stream",
          "name": "stdout",
          "text": [
            "Alignment Score: 10.0\n",
            "Alignment:\n",
            "PRT---EINS\n",
            "PRTWPSEIN-\n"
          ]
        }
      ]
    },
    {
      "cell_type": "markdown",
      "source": [
        "#### Test Case 2 of linear and affine penalty respectively\n"
      ],
      "metadata": {
        "id": "oA_PVdSJP2lm"
      },
      "id": "oA_PVdSJP2lm"
    },
    {
      "cell_type": "code",
      "source": [
        "seq3 = \"QMETSTTGAAYFNG\"\n",
        "seq4 = \"QFISPTGAAKYFNT\"\n",
        "\n",
        "penalty_params = {\n",
        "    'gap_penalty': -10,\n",
        "    'gap_extension_penalty': -1,\n",
        "    'scoring_matrix': scoring_matrix  # Make sure scoring_matrix is defined\n",
        "}\n",
        "\n",
        "affine_alignment_score2, affine_alignment2 = needleman_wunsch_algorithm_affine_penalty(seq3, seq4, penalty_params)\n",
        "print(\"Alignment Score:\", affine_alignment_score2)\n",
        "print(\"Alignment:\")\n",
        "print(affine_alignment2)\n",
        "\n"
      ],
      "metadata": {
        "colab": {
          "base_uri": "https://localhost:8080/"
        },
        "id": "aEaIJ6_nMNLX",
        "outputId": "b457ab50-8e9a-4c19-c364-e6de8b6787d0"
      },
      "id": "aEaIJ6_nMNLX",
      "execution_count": 24,
      "outputs": [
        {
          "output_type": "stream",
          "name": "stdout",
          "text": [
            "Alignment Score: 25.0\n",
            "Alignment:\n",
            "QMETSTTGAAYFNG\n",
            "QFISPTGAAKYFNT\n"
          ]
        }
      ]
    },
    {
      "cell_type": "code",
      "source": [
        "sample1_sequence1 = \"QMETSTTGAAYFNG\"\n",
        "sample1_sequence2 = \"QFISPTGAAKYFNT\"\n",
        "gap_penalty = -1\n",
        "\n",
        "# Perform sequence alignment using the Needleman-Wunsch algorithm with linear gap penalty\n",
        "alignment_score, alignment, match_mismatch_score = needleman_wunsch_algorithm(sample1_sequence1, sample1_sequence2, 'linear', penalty_params)\n",
        "\n",
        "# Display the results\n",
        "print(\"Alignment Score:\", alignment_score)\n",
        "print(\"Alignment:\", alignment)\n",
        "print(\"Match/Mismatch Score:\", match_mismatch_score)\n",
        "\n"
      ],
      "metadata": {
        "colab": {
          "base_uri": "https://localhost:8080/"
        },
        "id": "mG_R2oG6VoV6",
        "outputId": "1bfaa787-b110-4cd7-b497-af3ddecfbb70"
      },
      "id": "mG_R2oG6VoV6",
      "execution_count": 21,
      "outputs": [
        {
          "output_type": "stream",
          "name": "stdout",
          "text": [
            "Alignment Score: 41.0\n",
            "Alignment: ('QMETSTTGAA-YFNG', 'QF-ISPTGAAKYFNT')\n",
            "Match/Mismatch Score: 41.0\n"
          ]
        }
      ]
    },
    {
      "cell_type": "markdown",
      "source": [
        "#### Test Case 3 of linear and affine penalty respectively\n"
      ],
      "metadata": {
        "id": "zDlhOnKqP5p0"
      },
      "id": "zDlhOnKqP5p0"
    },
    {
      "cell_type": "code",
      "source": [
        "# Define the new sequences and gap penalty\n",
        "seq3 = \"YHFDVPDCWAHRYWVENPQAIAQMEQICFNWFPSMMMKQPHVFKVDHHMSCRWLPIRGKKCSSCCTRMRVRTVWE\"\n",
        "seq4 = \"YHEDVAHEDAIAQMVNTFGFVWQICLNQFPSMMMKIYWIAVLSAHVADRKTWSKHMSCRWLPIISATCARMRVRTVWE\"\n",
        "gap_penalty = -1\n",
        "\n",
        "# Perform sequence alignment using the Needleman-Wunsch algorithm with linear gap penalty\n",
        "alignment_score, alignment, match_mismatch_score = needleman_wunsch_algorithm(seq3, seq4, 'linear', penalty_params)\n",
        "\n",
        "# Display the results\n",
        "print(\"Alignment Score:\", alignment_score)\n",
        "print(\"Alignment:\", alignment)\n",
        "print(\"Match/Mismatch Score:\", match_mismatch_score)\n"
      ],
      "metadata": {
        "colab": {
          "base_uri": "https://localhost:8080/"
        },
        "id": "0QCT9eHAyFCJ",
        "outputId": "21fd8e21-dfd7-4918-e99e-045faf61fb7a"
      },
      "id": "0QCT9eHAyFCJ",
      "execution_count": 20,
      "outputs": [
        {
          "output_type": "stream",
          "name": "stdout",
          "text": [
            "Alignment Score: 222.0\n",
            "Alignment: ('YH-FDVPDCWAHRYWVENPQAIAQM-E------QICFNWFPSMMMK-------QPHV---FKV-DHHMSCRWLPIRGKKCSSCCTRMRVRTVWE', 'YHE-DV----AH----ED--AIAQMVNTFGFVWQICLNQFPSMMMKIYWIAVLSAHVADR-KTWSKHMSCRWLPI----ISATCARMRVRTVWE')\n",
            "Match/Mismatch Score: 222.0\n"
          ]
        }
      ]
    },
    {
      "cell_type": "code",
      "source": [
        "# Define the new sequences and gap penalty\n",
        "seq5 = \"YHFDVPDCWAHRYWVENPQAIAQMEQICFNWFPSMMMKQPHVFKVDHHMSCRWLPIRGKKCSSCCTRMRVRTVWE\"\n",
        "seq6 = \"YHEDVAHEDAIAQMVNTFGFVWQICLNQFPSMMMKIYWIAVLSAHVADRKTWSKHMSCRWLPIISATCARMRVRTVWE\"\n",
        "penalty_params = {\n",
        "    'gap_penalty': -10,\n",
        "    'gap_extension_penalty': -1,\n",
        "    'scoring_matrix': scoring_matrix  # Make sure scoring_matrix is defined\n",
        "}\n",
        "affine_alignment_score3, affine_alignment3 = needleman_wunsch_algorithm_affine_penalty(seq5, seq6, penalty_params)\n",
        "print(\"Alignment Score:\", affine_alignment_score3)\n",
        "print(\"Alignment:\")\n",
        "print(affine_alignment3)\n"
      ],
      "metadata": {
        "colab": {
          "base_uri": "https://localhost:8080/"
        },
        "id": "VMHhLnC4Mqsl",
        "outputId": "bf2e1d61-7782-43b3-c948-c4effb1e6452"
      },
      "id": "VMHhLnC4Mqsl",
      "execution_count": 25,
      "outputs": [
        {
          "output_type": "stream",
          "name": "stdout",
          "text": [
            "Alignment Score: 150.0\n",
            "Alignment:\n",
            "YHFDVPDCWAHRYWVENPQAIAQM------E-QICFNWFPSMMMK-------QPHVF---KVDHHMSCRWLPIRGKKCSSCCTRMRVRTVWE\n",
            "YHEDV----AH-----E-DAIAQMVNTFGFVWQICLNQFPSMMMKIYWIAVLSAHVADRKTWSKHMSCRWLPI----ISATCARMRVRTVWE\n"
          ]
        }
      ]
    },
    {
      "cell_type": "markdown",
      "source": [
        "###Test case 4 of affine penalty"
      ],
      "metadata": {
        "id": "TqxDSrGTQNJ3"
      },
      "id": "TqxDSrGTQNJ3"
    },
    {
      "cell_type": "code",
      "source": [
        "# Define the new sequences and gap penalty\n",
        "seq7 = \"SKGSLWLWMCKDKLGENLVVFNNVLGAGLFDEPHYPCVEWYDFVR\"\n",
        "seq8 = \"SHKGSLNWLGWNCKDKLGENLVVFPNYLFAAHFEPHYPCIVEYDFVD\"\n",
        "penalty_params = {\n",
        "    'gap_penalty': -10,\n",
        "    'gap_extension_penalty': -1,\n",
        "    'scoring_matrix': scoring_matrix  # Make sure scoring_matrix is defined\n",
        "}\n",
        "affine_alignment_score4, affine_alignment4 = needleman_wunsch_algorithm_affine_penalty(seq7, seq8, penalty_params)\n",
        "print(\"Alignment Score:\", affine_alignment_score4)\n",
        "print(\"Alignment:\")\n",
        "print(affine_alignment4)\n"
      ],
      "metadata": {
        "colab": {
          "base_uri": "https://localhost:8080/"
        },
        "id": "QTGdYp6UPtH2",
        "outputId": "371b0e8b-1b51-4829-ee44-722427101a67"
      },
      "id": "QTGdYp6UPtH2",
      "execution_count": 26,
      "outputs": [
        {
          "output_type": "stream",
          "name": "stdout",
          "text": [
            "Alignment Score: 144.0\n",
            "Alignment:\n",
            "S-KGSL-WL-WMCKDKLGENLVVFNNVLGAGLFDEPHYPCVEWYDFVR\n",
            "SHKGSLNWLGWNCKDKLGENLVVFPNYLFAAHF-EPHYPCIVEYDFVD\n"
          ]
        }
      ]
    },
    {
      "cell_type": "markdown",
      "source": [
        "###Test case 5 of affine penalty"
      ],
      "metadata": {
        "id": "9VvShfWSQTfT"
      },
      "id": "9VvShfWSQTfT"
    },
    {
      "cell_type": "code",
      "source": [
        "seq9 = \"DAHGDMWNYFRANETVAWEWFPHHAQFLHCELPKDK\"\n",
        "seq10 = \"DAHGGCDWNYFANELTVMWEHFNPHAQFLHCELEYMDL\"\n",
        "\n",
        "penalty_params = {\n",
        "    'gap_penalty': -10,\n",
        "    'gap_extension_penalty': -1,\n",
        "    'scoring_matrix': scoring_matrix  # Make sure scoring_matrix is defined\n",
        "}\n",
        "affine_alignment_score5, affine_alignment5 = needleman_wunsch_algorithm_affine_penalty(seq9, seq10, penalty_params)\n",
        "print(\"Alignment Score:\", affine_alignment_score5)\n",
        "print(\"Alignment:\")\n",
        "print(affine_alignment5)\n"
      ],
      "metadata": {
        "colab": {
          "base_uri": "https://localhost:8080/"
        },
        "id": "J-PBs2QIU96P",
        "outputId": "9bb8576a-f8bf-450e-891b-49968f97c676"
      },
      "id": "J-PBs2QIU96P",
      "execution_count": 27,
      "outputs": [
        {
          "output_type": "stream",
          "name": "stdout",
          "text": [
            "Alignment Score: 106.0\n",
            "Alignment:\n",
            "DAHGDM-WNYFRANE-TVAWEWFPHHAQFLHCELP-KDK\n",
            "DAHGGCDWNYF-ANELTVMWEHFNPHAQFLHCELEYMDL\n"
          ]
        }
      ]
    },
    {
      "cell_type": "markdown",
      "id": "efb01f1a",
      "metadata": {
        "id": "efb01f1a"
      },
      "source": [
        "### BLOSUM62 Scoring Matrix"
      ]
    },
    {
      "cell_type": "markdown",
      "id": "a103dbdc",
      "metadata": {
        "id": "a103dbdc"
      },
      "source": [
        "Run the cell below to obtain the scoring matrix."
      ]
    },
    {
      "cell_type": "code",
      "execution_count": 13,
      "id": "641facb7",
      "metadata": {
        "id": "641facb7"
      },
      "outputs": [],
      "source": [
        "resp = requests.get(\n",
        "    \"https://raw.githubusercontent.com/rdpstaff/AlignmentTools/master/src/data/blosum62.txt\"\n",
        ")\n",
        "_scoring_matrix = np.stack(\n",
        "    [\n",
        "        np.fromstring(line[2:].strip(), sep=\" \")\n",
        "        for line in resp.text.split(\"\\n\")\n",
        "        if line and (line[0] not in [\"#\", \" \"])\n",
        "    ]\n",
        ")\n",
        "_amino_acids = resp.text.split(\"\\n\")[6].strip().split(\"  \")\n",
        "\n",
        "\n",
        "scoring_matrix = pd.DataFrame(\n",
        "    _scoring_matrix, index=_amino_acids, columns=_amino_acids, dtype=int\n",
        ")"
      ]
    },
    {
      "cell_type": "markdown",
      "id": "verified-hungarian",
      "metadata": {
        "id": "verified-hungarian"
      },
      "source": [
        "### Generic Sequence Alignment Function"
      ]
    },
    {
      "cell_type": "code",
      "execution_count": 16,
      "id": "cheap-emission",
      "metadata": {
        "id": "cheap-emission"
      },
      "outputs": [],
      "source": [
        "def align_sequences(seq1, seq2, penalty, penalty_params):\n",
        "    scoring_matrix = penalty_params.get(\"scoring_matrix\", None)\n",
        "\n",
        "    if penalty == \"linear\":\n",
        "        return needleman_wunsch_algorithm_linear_penalty(seq1, seq2, penalty_params, scoring_matrix)\n",
        "    elif penalty == \"affine\":\n",
        "        return needleman_wunsch_algorithm_affine_penalty(seq1, seq2, penalty_params, scoring_matrix)\n",
        "    else:\n",
        "        raise NotImplementedError\n"
      ]
    },
    {
      "cell_type": "markdown",
      "id": "alike-enlargement",
      "metadata": {
        "id": "alike-enlargement"
      },
      "source": [
        "### Inputs\n",
        "\n",
        "You can use the functions below to generate sample sequences to test your algorithms."
      ]
    },
    {
      "cell_type": "code",
      "execution_count": 24,
      "id": "close-founder",
      "metadata": {
        "colab": {
          "base_uri": "https://localhost:8080/"
        },
        "id": "close-founder",
        "outputId": "0f4138cb-ffdc-4cbc-bc9c-84c2f80757d5"
      },
      "outputs": [
        {
          "output_type": "execute_result",
          "data": {
            "text/plain": [
              "('HWTYTKAPSSARHMEDWDDEYQAMGAYHRWTMFEQFTQMSGMCV',\n",
              " 'HWTYTGKAPSSEYLRTHMEDPDDEYQAMGAYHWNFEYAQAYQMCV')"
            ]
          },
          "metadata": {},
          "execution_count": 24
        }
      ],
      "source": [
        "aminoacids = [\n",
        "    \"A\",\n",
        "    \"R\",\n",
        "    \"N\",\n",
        "    \"D\",\n",
        "    \"C\",\n",
        "    \"Q\",\n",
        "    \"E\",\n",
        "    \"G\",\n",
        "    \"H\",\n",
        "    \"I\",\n",
        "    \"L\",\n",
        "    \"K\",\n",
        "    \"M\",\n",
        "    \"F\",\n",
        "    \"P\",\n",
        "    \"S\",\n",
        "    \"T\",\n",
        "    \"W\",\n",
        "    \"Y\",\n",
        "    \"V\",\n",
        "]\n",
        "\n",
        "\n",
        "def generate_sequence(length=50):\n",
        "    return \"\".join([random.choice(aminoacids) for i in range(length)])\n",
        "\n",
        "\n",
        "def mutate_sequence(seq, n_mutations=10):\n",
        "    seq = list(seq)\n",
        "    pos = {\n",
        "        random.randint(1, len(seq)): random.choice([\"substitute\", \"delete\"])\n",
        "        for i in range(n_mutations)\n",
        "    }\n",
        "    mutated_sequence = \"\"\n",
        "    for ix, aminoacid in enumerate(seq):\n",
        "        if ix in pos:\n",
        "            if pos[ix] == \"substitute\":\n",
        "                mutated_sequence += random.choice(aminoacids)\n",
        "        else:\n",
        "            mutated_sequence += aminoacid\n",
        "    return mutated_sequence\n",
        "\n",
        "\n",
        "sample_sequence = generate_sequence()\n",
        "sequence1 = mutate_sequence(sample_sequence)\n",
        "sequence2 = mutate_sequence(sample_sequence)\n",
        "sequence1, sequence2"
      ]
    },
    {
      "cell_type": "code",
      "execution_count": 30,
      "id": "western-simple",
      "metadata": {
        "id": "western-simple"
      },
      "outputs": [],
      "source": [
        "def align_sequences_biopython(seq1, seq2, penalty_params):\n",
        "    aligner = Align.PairwiseAligner()\n",
        "    aligner.substitution_matrix = substitution_matrices.load(\"BLOSUM62\")\n",
        "    if penalty_params[\"penalty_type\"] == \"linear\":\n",
        "        aligner.open_gap_score = penalty_params[\"gap_penalty\"]  # -1\n",
        "        aligner.extend_gap_score = penalty_params[\"gap_penalty\"]  # -1\n",
        "    elif penalty_params[\"penalty_type\"] == \"affine\":\n",
        "        aligner.open_gap_score = penalty_params[\"gap_penalty\"]  # -10\n",
        "        aligner.extend_gap_score = penalty_params[\"gap_extension_penalty\"]  # -1\n",
        "\n",
        "    aligner.mode = \"global\"\n",
        "    for alignment in aligner.align(seq1, seq2):\n",
        "        print(\"Score:\", alignment.score)\n",
        "        print(alignment)"
      ]
    },
    {
      "cell_type": "markdown",
      "id": "injured-worthy",
      "metadata": {
        "id": "injured-worthy"
      },
      "source": [
        "#### Sample 1"
      ]
    },
    {
      "cell_type": "code",
      "execution_count": 33,
      "id": "worthy-diploma",
      "metadata": {
        "id": "worthy-diploma"
      },
      "outputs": [],
      "source": [
        "sample2_sequence1 = \"PRTEINS\"\n",
        "sample2_sequence2 = \"PRTWPSEIN\""
      ]
    },
    {
      "cell_type": "code",
      "execution_count": 34,
      "id": "architectural-event",
      "metadata": {
        "colab": {
          "base_uri": "https://localhost:8080/"
        },
        "id": "architectural-event",
        "outputId": "5ffc2eb2-ff24-450c-ceaf-a6d5a6960896"
      },
      "outputs": [
        {
          "output_type": "stream",
          "name": "stdout",
          "text": [
            "Score: 28.0\n",
            "target            0 PRT---EINS  7\n",
            "                  0 |||---|||- 10\n",
            "query             0 PRTWPSEIN-  9\n",
            "\n"
          ]
        }
      ],
      "source": [
        "align_sequences_biopython(\n",
        "    sample2_sequence1, sample2_sequence2, {\"penalty_type\": \"linear\", \"gap_penalty\": -1}\n",
        ")"
      ]
    },
    {
      "cell_type": "code",
      "execution_count": 35,
      "id": "313ba0e5",
      "metadata": {
        "colab": {
          "base_uri": "https://localhost:8080/"
        },
        "id": "313ba0e5",
        "outputId": "bd0a8a9e-2df9-402c-8ab4-37e78d48597d"
      },
      "outputs": [
        {
          "output_type": "stream",
          "name": "stdout",
          "text": [
            "Score: 10.0\n",
            "target            0 PRT---EINS  7\n",
            "                  0 |||---|||- 10\n",
            "query             0 PRTWPSEIN-  9\n",
            "\n"
          ]
        }
      ],
      "source": [
        "align_sequences_biopython(\n",
        "    sample2_sequence1,\n",
        "    sample2_sequence2,\n",
        "    {\"penalty_type\": \"affine\", \"gap_penalty\": -10, \"gap_extension_penalty\": -1},\n",
        ")"
      ]
    },
    {
      "cell_type": "markdown",
      "id": "computational-seeker",
      "metadata": {
        "id": "computational-seeker"
      },
      "source": [
        "#### Sample 2"
      ]
    },
    {
      "cell_type": "code",
      "execution_count": 29,
      "id": "wound-minimum",
      "metadata": {
        "id": "wound-minimum"
      },
      "outputs": [],
      "source": [
        "sample1_sequence1 = \"QMETSTTGAAYFNG\"\n",
        "sample1_sequence2 = \"QFISPTGAAKYFNT\"\n",
        "\n",
        "\n"
      ]
    },
    {
      "cell_type": "code",
      "execution_count": 31,
      "id": "conventional-witness",
      "metadata": {
        "colab": {
          "base_uri": "https://localhost:8080/"
        },
        "id": "conventional-witness",
        "outputId": "111e3264-f281-4766-d776-c2a569bde1bd"
      },
      "outputs": [
        {
          "output_type": "stream",
          "name": "stdout",
          "text": [
            "Score: 41.0\n",
            "target            0 Q-METSTTGAA-YFNG- 14\n",
            "                  0 |-.--|.||||-|||-- 17\n",
            "query             0 QFI--SPTGAAKYFN-T 14\n",
            "\n",
            "Score: 41.0\n",
            "target            0 QMETSTTGAA-YFNG- 14\n",
            "                  0 |.-.|.||||-|||-- 16\n",
            "query             0 QF-ISPTGAAKYFN-T 14\n",
            "\n",
            "Score: 41.0\n",
            "target            0 Q-METSTTGAA-YFN-G 14\n",
            "                  0 |-.--|.||||-|||-- 17\n",
            "query             0 QFI--SPTGAAKYFNT- 14\n",
            "\n",
            "Score: 41.0\n",
            "target            0 QMETSTTGAA-YFN-G 14\n",
            "                  0 |.-.|.||||-|||-- 16\n",
            "query             0 QF-ISPTGAAKYFNT- 14\n",
            "\n",
            "Score: 41.0\n",
            "target            0 Q-METSTTGAA-YFNG 14\n",
            "                  0 |-.--|.||||-|||. 16\n",
            "query             0 QFI--SPTGAAKYFNT 14\n",
            "\n",
            "Score: 41.0\n",
            "target            0 QMETSTTGAA-YFNG 14\n",
            "                  0 |.-.|.||||-|||. 15\n",
            "query             0 QF-ISPTGAAKYFNT 14\n",
            "\n"
          ]
        }
      ],
      "source": [
        "align_sequences_biopython(\n",
        "    sample1_sequence1, sample1_sequence2, {\"penalty_type\": \"linear\", \"gap_penalty\": -1}\n",
        ")"
      ]
    },
    {
      "cell_type": "code",
      "execution_count": 32,
      "id": "ahead-durham",
      "metadata": {
        "colab": {
          "base_uri": "https://localhost:8080/"
        },
        "id": "ahead-durham",
        "outputId": "b3db8c21-0256-4a5a-97e2-0f544c73c520"
      },
      "outputs": [
        {
          "output_type": "stream",
          "name": "stdout",
          "text": [
            "Score: 25.0\n",
            "target            0 QMETSTTGAAYFNG 14\n",
            "                  0 |....|..|.|||. 14\n",
            "query             0 QFISPTGAAKYFNT 14\n",
            "\n"
          ]
        }
      ],
      "source": [
        "align_sequences_biopython(\n",
        "    sample1_sequence1,\n",
        "    sample1_sequence2,\n",
        "    {\"penalty_type\": \"affine\", \"gap_penalty\": -10, \"gap_extension_penalty\": -1},\n",
        ")"
      ]
    },
    {
      "cell_type": "markdown",
      "id": "rough-sensitivity",
      "metadata": {
        "id": "rough-sensitivity"
      },
      "source": [
        "#### Sample 3"
      ]
    },
    {
      "cell_type": "code",
      "execution_count": 46,
      "id": "catholic-danish",
      "metadata": {
        "id": "catholic-danish"
      },
      "outputs": [],
      "source": [
        "sample3_sequence1 = (\n",
        "    \"YHFDVPDCWAHRYWVENPQAIAQMEQICFNWFPSMMMKQPHVFKVDHHMSCRWLPIRGKKCSSCCTRMRVRTVWE\"\n",
        ")\n",
        "sample3_sequence2 = (\n",
        "    \"YHEDVAHEDAIAQMVNTFGFVWQICLNQFPSMMMKIYWIAVLSAHVADRKTWSKHMSCRWLPIISATCARMRVRTVWE\"\n",
        ")"
      ]
    },
    {
      "cell_type": "code",
      "source": [
        "align_sequences_biopython(\n",
        "    sample3_sequence1, sample3_sequence2, {\"penalty_type\": \"linear\", \"gap_penalty\": -1}\n",
        ")"
      ],
      "metadata": {
        "colab": {
          "base_uri": "https://localhost:8080/"
        },
        "id": "YGFdu7R8SGD7",
        "outputId": "47d26509-361c-417d-f27a-cb64a646ef17"
      },
      "id": "YGFdu7R8SGD7",
      "execution_count": 47,
      "outputs": [
        {
          "output_type": "stream",
          "name": "stdout",
          "text": [
            "Score: 222.0\n",
            "target            0 YHF-DVPDCWAHRYWVENPQAIAQM-E------QICFNW-FPSMMMK-------QPHVFK\n",
            "                  0 ||--||----||----|.--|||||-.------|||.|--|||||||-------..||--\n",
            "query             0 YH-EDV----AH----ED--AIAQMVNTFGFVWQICLN-QFPSMMMKIYWIAVLSAHV--\n",
            "\n",
            "target           44 VDH-----HMSCRWLPIRGKKCSSCCTRMRVRTVWE 75\n",
            "                 60 .|.-----|||||||||----.|..|.||||||||| 96\n",
            "query            46 ADRKTWSKHMSCRWLPI----ISATCARMRVRTVWE 78\n",
            "\n",
            "Score: 222.0\n",
            "target            0 YH-FDVPDCWAHRYWVENPQAIAQM-E------QICFNW-FPSMMMK-------QPHVFK\n",
            "                  0 ||--||----||----|.--|||||-.------|||.|--|||||||-------..||--\n",
            "query             0 YHE-DV----AH----ED--AIAQMVNTFGFVWQICLN-QFPSMMMKIYWIAVLSAHV--\n",
            "\n",
            "target           44 VDH-----HMSCRWLPIRGKKCSSCCTRMRVRTVWE 75\n",
            "                 60 .|.-----|||||||||----.|..|.||||||||| 96\n",
            "query            46 ADRKTWSKHMSCRWLPI----ISATCARMRVRTVWE 78\n",
            "\n",
            "Score: 222.0\n",
            "target            0 YHF-DVPDCWAHRYWVENPQAIAQM-E------QICFN-WFPSMMMK-------QPHVFK\n",
            "                  0 ||--||----||----|.--|||||-.------|||.|--|||||||-------..||--\n",
            "query             0 YH-EDV----AH----ED--AIAQMVNTFGFVWQICLNQ-FPSMMMKIYWIAVLSAHV--\n",
            "\n",
            "target           44 VDH-----HMSCRWLPIRGKKCSSCCTRMRVRTVWE 75\n",
            "                 60 .|.-----|||||||||----.|..|.||||||||| 96\n",
            "query            46 ADRKTWSKHMSCRWLPI----ISATCARMRVRTVWE 78\n",
            "\n",
            "Score: 222.0\n",
            "target            0 YH-FDVPDCWAHRYWVENPQAIAQM-E------QICFN-WFPSMMMK-------QPHVFK\n",
            "                  0 ||--||----||----|.--|||||-.------|||.|--|||||||-------..||--\n",
            "query             0 YHE-DV----AH----ED--AIAQMVNTFGFVWQICLNQ-FPSMMMKIYWIAVLSAHV--\n",
            "\n",
            "target           44 VDH-----HMSCRWLPIRGKKCSSCCTRMRVRTVWE 75\n",
            "                 60 .|.-----|||||||||----.|..|.||||||||| 96\n",
            "query            46 ADRKTWSKHMSCRWLPI----ISATCARMRVRTVWE 78\n",
            "\n",
            "Score: 222.0\n",
            "target            0 YHF-DVPDCWAHRYWVENPQAIAQM-E------QICFNWFPSMMMK-------QPHVFKV\n",
            "                  0 ||--||----||----|.--|||||-.------|||.|.|||||||-------..||--.\n",
            "query             0 YH-EDV----AH----ED--AIAQMVNTFGFVWQICLNQFPSMMMKIYWIAVLSAHV--A\n",
            "\n",
            "target           45 DH-----HMSCRWLPIRGKKCSSCCTRMRVRTVWE 75\n",
            "                 60 |.-----|||||||||----.|..|.||||||||| 95\n",
            "query            47 DRKTWSKHMSCRWLPI----ISATCARMRVRTVWE 78\n",
            "\n",
            "Score: 222.0\n",
            "target            0 YH-FDVPDCWAHRYWVENPQAIAQM-E------QICFNWFPSMMMK-------QPHVFKV\n",
            "                  0 ||--||----||----|.--|||||-.------|||.|.|||||||-------..||--.\n",
            "query             0 YHE-DV----AH----ED--AIAQMVNTFGFVWQICLNQFPSMMMKIYWIAVLSAHV--A\n",
            "\n",
            "target           45 DH-----HMSCRWLPIRGKKCSSCCTRMRVRTVWE 75\n",
            "                 60 |.-----|||||||||----.|..|.||||||||| 95\n",
            "query            47 DRKTWSKHMSCRWLPI----ISATCARMRVRTVWE 78\n",
            "\n",
            "Score: 222.0\n",
            "target            0 YHF-DVPDCWAHRYWVENPQAIAQM-E------QICFNW-FPSMMMK-------QPHVF-\n",
            "                  0 ||--||----||----|.--|||||-.------|||.|--|||||||-------..||--\n",
            "query             0 YH-EDV----AH----ED--AIAQMVNTFGFVWQICLN-QFPSMMMKIYWIAVLSAHV-A\n",
            "\n",
            "target           43 --KV-DHHMSCRWLPIRGKKCSSCCTRMRVRTVWE 75\n",
            "                 60 --|.-..|||||||||----.|..|.||||||||| 95\n",
            "query            47 DRKTWSKHMSCRWLPI----ISATCARMRVRTVWE 78\n",
            "\n",
            "Score: 222.0\n",
            "target            0 YH-FDVPDCWAHRYWVENPQAIAQM-E------QICFNW-FPSMMMK-------QPHVF-\n",
            "                  0 ||--||----||----|.--|||||-.------|||.|--|||||||-------..||--\n",
            "query             0 YHE-DV----AH----ED--AIAQMVNTFGFVWQICLN-QFPSMMMKIYWIAVLSAHV-A\n",
            "\n",
            "target           43 --KV-DHHMSCRWLPIRGKKCSSCCTRMRVRTVWE 75\n",
            "                 60 --|.-..|||||||||----.|..|.||||||||| 95\n",
            "query            47 DRKTWSKHMSCRWLPI----ISATCARMRVRTVWE 78\n",
            "\n",
            "Score: 222.0\n",
            "target            0 YHF-DVPDCWAHRYWVENPQAIAQM-E------QICFN-WFPSMMMK-------QPHVF-\n",
            "                  0 ||--||----||----|.--|||||-.------|||.|--|||||||-------..||--\n",
            "query             0 YH-EDV----AH----ED--AIAQMVNTFGFVWQICLNQ-FPSMMMKIYWIAVLSAHV-A\n",
            "\n",
            "target           43 --KV-DHHMSCRWLPIRGKKCSSCCTRMRVRTVWE 75\n",
            "                 60 --|.-..|||||||||----.|..|.||||||||| 95\n",
            "query            47 DRKTWSKHMSCRWLPI----ISATCARMRVRTVWE 78\n",
            "\n",
            "Score: 222.0\n",
            "target            0 YH-FDVPDCWAHRYWVENPQAIAQM-E------QICFN-WFPSMMMK-------QPHVF-\n",
            "                  0 ||--||----||----|.--|||||-.------|||.|--|||||||-------..||--\n",
            "query             0 YHE-DV----AH----ED--AIAQMVNTFGFVWQICLNQ-FPSMMMKIYWIAVLSAHV-A\n",
            "\n",
            "target           43 --KV-DHHMSCRWLPIRGKKCSSCCTRMRVRTVWE 75\n",
            "                 60 --|.-..|||||||||----.|..|.||||||||| 95\n",
            "query            47 DRKTWSKHMSCRWLPI----ISATCARMRVRTVWE 78\n",
            "\n",
            "Score: 222.0\n",
            "target            0 YHF-DVPDCWAHRYWVENPQAIAQM-E------QICFNWFPSMMMK-------QPHVF--\n",
            "                  0 ||--||----||----|.--|||||-.------|||.|.|||||||-------..||---\n",
            "query             0 YH-EDV----AH----ED--AIAQMVNTFGFVWQICLNQFPSMMMKIYWIAVLSAHV-AD\n",
            "\n",
            "target           43 -KV-DHHMSCRWLPIRGKKCSSCCTRMRVRTVWE 75\n",
            "                 60 -|.-..|||||||||----.|..|.||||||||| 94\n",
            "query            48 RKTWSKHMSCRWLPI----ISATCARMRVRTVWE 78\n",
            "\n",
            "Score: 222.0\n",
            "target            0 YH-FDVPDCWAHRYWVENPQAIAQM-E------QICFNWFPSMMMK-------QPHVF--\n",
            "                  0 ||--||----||----|.--|||||-.------|||.|.|||||||-------..||---\n",
            "query             0 YHE-DV----AH----ED--AIAQMVNTFGFVWQICLNQFPSMMMKIYWIAVLSAHV-AD\n",
            "\n",
            "target           43 -KV-DHHMSCRWLPIRGKKCSSCCTRMRVRTVWE 75\n",
            "                 60 -|.-..|||||||||----.|..|.||||||||| 94\n",
            "query            48 RKTWSKHMSCRWLPI----ISATCARMRVRTVWE 78\n",
            "\n",
            "Score: 222.0\n",
            "target            0 YHF-DVPDCWAHRYWVENPQAIAQM-E------QICFNW-FPSMMMK-------QPHV-F\n",
            "                  0 ||--||----||----|.--|||||-.------|||.|--|||||||-------..||--\n",
            "query             0 YH-EDV----AH----ED--AIAQMVNTFGFVWQICLN-QFPSMMMKIYWIAVLSAHVA-\n",
            "\n",
            "target           43 --KV-DHHMSCRWLPIRGKKCSSCCTRMRVRTVWE 75\n",
            "                 60 --|.-..|||||||||----.|..|.||||||||| 95\n",
            "query            47 DRKTWSKHMSCRWLPI----ISATCARMRVRTVWE 78\n",
            "\n",
            "Score: 222.0\n",
            "target            0 YH-FDVPDCWAHRYWVENPQAIAQM-E------QICFNW-FPSMMMK-------QPHV-F\n",
            "                  0 ||--||----||----|.--|||||-.------|||.|--|||||||-------..||--\n",
            "query             0 YHE-DV----AH----ED--AIAQMVNTFGFVWQICLN-QFPSMMMKIYWIAVLSAHVA-\n",
            "\n",
            "target           43 --KV-DHHMSCRWLPIRGKKCSSCCTRMRVRTVWE 75\n",
            "                 60 --|.-..|||||||||----.|..|.||||||||| 95\n",
            "query            47 DRKTWSKHMSCRWLPI----ISATCARMRVRTVWE 78\n",
            "\n",
            "Score: 222.0\n",
            "target            0 YHF-DVPDCWAHRYWVENPQAIAQM-E------QICFN-WFPSMMMK-------QPHV-F\n",
            "                  0 ||--||----||----|.--|||||-.------|||.|--|||||||-------..||--\n",
            "query             0 YH-EDV----AH----ED--AIAQMVNTFGFVWQICLNQ-FPSMMMKIYWIAVLSAHVA-\n",
            "\n",
            "target           43 --KV-DHHMSCRWLPIRGKKCSSCCTRMRVRTVWE 75\n",
            "                 60 --|.-..|||||||||----.|..|.||||||||| 95\n",
            "query            47 DRKTWSKHMSCRWLPI----ISATCARMRVRTVWE 78\n",
            "\n",
            "Score: 222.0\n",
            "target            0 YH-FDVPDCWAHRYWVENPQAIAQM-E------QICFN-WFPSMMMK-------QPHV-F\n",
            "                  0 ||--||----||----|.--|||||-.------|||.|--|||||||-------..||--\n",
            "query             0 YHE-DV----AH----ED--AIAQMVNTFGFVWQICLNQ-FPSMMMKIYWIAVLSAHVA-\n",
            "\n",
            "target           43 --KV-DHHMSCRWLPIRGKKCSSCCTRMRVRTVWE 75\n",
            "                 60 --|.-..|||||||||----.|..|.||||||||| 95\n",
            "query            47 DRKTWSKHMSCRWLPI----ISATCARMRVRTVWE 78\n",
            "\n",
            "Score: 222.0\n",
            "target            0 YHF-DVPDCWAHRYWVENPQAIAQM-E------QICFNWFPSMMMK-------QPHV-F-\n",
            "                  0 ||--||----||----|.--|||||-.------|||.|.|||||||-------..||---\n",
            "query             0 YH-EDV----AH----ED--AIAQMVNTFGFVWQICLNQFPSMMMKIYWIAVLSAHVA-D\n",
            "\n",
            "target           43 -KV-DHHMSCRWLPIRGKKCSSCCTRMRVRTVWE 75\n",
            "                 60 -|.-..|||||||||----.|..|.||||||||| 94\n",
            "query            48 RKTWSKHMSCRWLPI----ISATCARMRVRTVWE 78\n",
            "\n",
            "Score: 222.0\n",
            "target            0 YH-FDVPDCWAHRYWVENPQAIAQM-E------QICFNWFPSMMMK-------QPHV-F-\n",
            "                  0 ||--||----||----|.--|||||-.------|||.|.|||||||-------..||---\n",
            "query             0 YHE-DV----AH----ED--AIAQMVNTFGFVWQICLNQFPSMMMKIYWIAVLSAHVA-D\n",
            "\n",
            "target           43 -KV-DHHMSCRWLPIRGKKCSSCCTRMRVRTVWE 75\n",
            "                 60 -|.-..|||||||||----.|..|.||||||||| 94\n",
            "query            48 RKTWSKHMSCRWLPI----ISATCARMRVRTVWE 78\n",
            "\n",
            "Score: 222.0\n",
            "target            0 YHF-DVPDCWAHRYWVENPQAIAQM-E------QICFNW-FPSMMMK-------QPHVF-\n",
            "                  0 ||--||----||----|.--|||||-.------|||.|--|||||||-------..||.-\n",
            "query             0 YH-EDV----AH----ED--AIAQMVNTFGFVWQICLN-QFPSMMMKIYWIAVLSAHVAD\n",
            "\n",
            "target           43 -KV-DHHMSCRWLPIRGKKCSSCCTRMRVRTVWE 75\n",
            "                 60 -|.-..|||||||||----.|..|.||||||||| 94\n",
            "query            48 RKTWSKHMSCRWLPI----ISATCARMRVRTVWE 78\n",
            "\n",
            "Score: 222.0\n",
            "target            0 YH-FDVPDCWAHRYWVENPQAIAQM-E------QICFNW-FPSMMMK-------QPHVF-\n",
            "                  0 ||--||----||----|.--|||||-.------|||.|--|||||||-------..||.-\n",
            "query             0 YHE-DV----AH----ED--AIAQMVNTFGFVWQICLN-QFPSMMMKIYWIAVLSAHVAD\n",
            "\n",
            "target           43 -KV-DHHMSCRWLPIRGKKCSSCCTRMRVRTVWE 75\n",
            "                 60 -|.-..|||||||||----.|..|.||||||||| 94\n",
            "query            48 RKTWSKHMSCRWLPI----ISATCARMRVRTVWE 78\n",
            "\n",
            "Score: 222.0\n",
            "target            0 YHF-DVPDCWAHRYWVENPQAIAQM-E------QICFN-WFPSMMMK-------QPHVF-\n",
            "                  0 ||--||----||----|.--|||||-.------|||.|--|||||||-------..||.-\n",
            "query             0 YH-EDV----AH----ED--AIAQMVNTFGFVWQICLNQ-FPSMMMKIYWIAVLSAHVAD\n",
            "\n",
            "target           43 -KV-DHHMSCRWLPIRGKKCSSCCTRMRVRTVWE 75\n",
            "                 60 -|.-..|||||||||----.|..|.||||||||| 94\n",
            "query            48 RKTWSKHMSCRWLPI----ISATCARMRVRTVWE 78\n",
            "\n",
            "Score: 222.0\n",
            "target            0 YH-FDVPDCWAHRYWVENPQAIAQM-E------QICFN-WFPSMMMK-------QPHVF-\n",
            "                  0 ||--||----||----|.--|||||-.------|||.|--|||||||-------..||.-\n",
            "query             0 YHE-DV----AH----ED--AIAQMVNTFGFVWQICLNQ-FPSMMMKIYWIAVLSAHVAD\n",
            "\n",
            "target           43 -KV-DHHMSCRWLPIRGKKCSSCCTRMRVRTVWE 75\n",
            "                 60 -|.-..|||||||||----.|..|.||||||||| 94\n",
            "query            48 RKTWSKHMSCRWLPI----ISATCARMRVRTVWE 78\n",
            "\n",
            "Score: 222.0\n",
            "target            0 YHF-DVPDCWAHRYWVENPQAIAQM-E------QICFNWFPSMMMK-------QPHVF--\n",
            "                  0 ||--||----||----|.--|||||-.------|||.|.|||||||-------..||.--\n",
            "query             0 YH-EDV----AH----ED--AIAQMVNTFGFVWQICLNQFPSMMMKIYWIAVLSAHVADR\n",
            "\n",
            "target           43 KV-DHHMSCRWLPIRGKKCSSCCTRMRVRTVWE 75\n",
            "                 60 |.-..|||||||||----.|..|.||||||||| 93\n",
            "query            49 KTWSKHMSCRWLPI----ISATCARMRVRTVWE 78\n",
            "\n",
            "Score: 222.0\n",
            "target            0 YH-FDVPDCWAHRYWVENPQAIAQM-E------QICFNWFPSMMMK-------QPHVF--\n",
            "                  0 ||--||----||----|.--|||||-.------|||.|.|||||||-------..||.--\n",
            "query             0 YHE-DV----AH----ED--AIAQMVNTFGFVWQICLNQFPSMMMKIYWIAVLSAHVADR\n",
            "\n",
            "target           43 KV-DHHMSCRWLPIRGKKCSSCCTRMRVRTVWE 75\n",
            "                 60 |.-..|||||||||----.|..|.||||||||| 93\n",
            "query            49 KTWSKHMSCRWLPI----ISATCARMRVRTVWE 78\n",
            "\n",
            "Score: 222.0\n",
            "target            0 YHF-DVPDCWAHRYWVENPQAIAQM-E------QICFNW-FPSMMMK-------QPHV--\n",
            "                  0 ||--||----||----|.--|||||-.------|||.|--|||||||-------..||--\n",
            "query             0 YH-EDV----AH----ED--AIAQMVNTFGFVWQICLN-QFPSMMMKIYWIAVLSAHVAD\n",
            "\n",
            "target           42 F-KV-DHHMSCRWLPIRGKKCSSCCTRMRVRTVWE 75\n",
            "                 60 --|.-..|||||||||----.|..|.||||||||| 95\n",
            "query            48 -RKTWSKHMSCRWLPI----ISATCARMRVRTVWE 78\n",
            "\n",
            "Score: 222.0\n",
            "target            0 YH-FDVPDCWAHRYWVENPQAIAQM-E------QICFNW-FPSMMMK-------QPHV--\n",
            "                  0 ||--||----||----|.--|||||-.------|||.|--|||||||-------..||--\n",
            "query             0 YHE-DV----AH----ED--AIAQMVNTFGFVWQICLN-QFPSMMMKIYWIAVLSAHVAD\n",
            "\n",
            "target           42 F-KV-DHHMSCRWLPIRGKKCSSCCTRMRVRTVWE 75\n",
            "                 60 --|.-..|||||||||----.|..|.||||||||| 95\n",
            "query            48 -RKTWSKHMSCRWLPI----ISATCARMRVRTVWE 78\n",
            "\n",
            "Score: 222.0\n",
            "target            0 YHF-DVPDCWAHRYWVENPQAIAQM-E------QICFN-WFPSMMMK-------QPHV--\n",
            "                  0 ||--||----||----|.--|||||-.------|||.|--|||||||-------..||--\n",
            "query             0 YH-EDV----AH----ED--AIAQMVNTFGFVWQICLNQ-FPSMMMKIYWIAVLSAHVAD\n",
            "\n",
            "target           42 F-KV-DHHMSCRWLPIRGKKCSSCCTRMRVRTVWE 75\n",
            "                 60 --|.-..|||||||||----.|..|.||||||||| 95\n",
            "query            48 -RKTWSKHMSCRWLPI----ISATCARMRVRTVWE 78\n",
            "\n",
            "Score: 222.0\n",
            "target            0 YH-FDVPDCWAHRYWVENPQAIAQM-E------QICFN-WFPSMMMK-------QPHV--\n",
            "                  0 ||--||----||----|.--|||||-.------|||.|--|||||||-------..||--\n",
            "query             0 YHE-DV----AH----ED--AIAQMVNTFGFVWQICLNQ-FPSMMMKIYWIAVLSAHVAD\n",
            "\n",
            "target           42 F-KV-DHHMSCRWLPIRGKKCSSCCTRMRVRTVWE 75\n",
            "                 60 --|.-..|||||||||----.|..|.||||||||| 95\n",
            "query            48 -RKTWSKHMSCRWLPI----ISATCARMRVRTVWE 78\n",
            "\n",
            "Score: 222.0\n",
            "target            0 YHF-DVPDCWAHRYWVENPQAIAQM-E------QICFNWFPSMMMK-------QPHV--F\n",
            "                  0 ||--||----||----|.--|||||-.------|||.|.|||||||-------..||---\n",
            "query             0 YH-EDV----AH----ED--AIAQMVNTFGFVWQICLNQFPSMMMKIYWIAVLSAHVAD-\n",
            "\n",
            "target           43 -KV-DHHMSCRWLPIRGKKCSSCCTRMRVRTVWE 75\n",
            "                 60 -|.-..|||||||||----.|..|.||||||||| 94\n",
            "query            48 RKTWSKHMSCRWLPI----ISATCARMRVRTVWE 78\n",
            "\n",
            "Score: 222.0\n",
            "target            0 YH-FDVPDCWAHRYWVENPQAIAQM-E------QICFNWFPSMMMK-------QPHV--F\n",
            "                  0 ||--||----||----|.--|||||-.------|||.|.|||||||-------..||---\n",
            "query             0 YHE-DV----AH----ED--AIAQMVNTFGFVWQICLNQFPSMMMKIYWIAVLSAHVAD-\n",
            "\n",
            "target           43 -KV-DHHMSCRWLPIRGKKCSSCCTRMRVRTVWE 75\n",
            "                 60 -|.-..|||||||||----.|..|.||||||||| 94\n",
            "query            48 RKTWSKHMSCRWLPI----ISATCARMRVRTVWE 78\n",
            "\n",
            "Score: 222.0\n",
            "target            0 YHF-DVPDCWAHRYWVENPQAIAQM-E------QICFNW-FPSMMMK-------QPHV--\n",
            "                  0 ||--||----||----|.--|||||-.------|||.|--|||||||-------..||--\n",
            "query             0 YH-EDV----AH----ED--AIAQMVNTFGFVWQICLN-QFPSMMMKIYWIAVLSAHVAD\n",
            "\n",
            "target           42 -FKV-DHHMSCRWLPIRGKKCSSCCTRMRVRTVWE 75\n",
            "                 60 --|.-..|||||||||----.|..|.||||||||| 95\n",
            "query            48 R-KTWSKHMSCRWLPI----ISATCARMRVRTVWE 78\n",
            "\n",
            "Score: 222.0\n",
            "target            0 YH-FDVPDCWAHRYWVENPQAIAQM-E------QICFNW-FPSMMMK-------QPHV--\n",
            "                  0 ||--||----||----|.--|||||-.------|||.|--|||||||-------..||--\n",
            "query             0 YHE-DV----AH----ED--AIAQMVNTFGFVWQICLN-QFPSMMMKIYWIAVLSAHVAD\n",
            "\n",
            "target           42 -FKV-DHHMSCRWLPIRGKKCSSCCTRMRVRTVWE 75\n",
            "                 60 --|.-..|||||||||----.|..|.||||||||| 95\n",
            "query            48 R-KTWSKHMSCRWLPI----ISATCARMRVRTVWE 78\n",
            "\n",
            "Score: 222.0\n",
            "target            0 YHF-DVPDCWAHRYWVENPQAIAQM-E------QICFN-WFPSMMMK-------QPHV--\n",
            "                  0 ||--||----||----|.--|||||-.------|||.|--|||||||-------..||--\n",
            "query             0 YH-EDV----AH----ED--AIAQMVNTFGFVWQICLNQ-FPSMMMKIYWIAVLSAHVAD\n",
            "\n",
            "target           42 -FKV-DHHMSCRWLPIRGKKCSSCCTRMRVRTVWE 75\n",
            "                 60 --|.-..|||||||||----.|..|.||||||||| 95\n",
            "query            48 R-KTWSKHMSCRWLPI----ISATCARMRVRTVWE 78\n",
            "\n",
            "Score: 222.0\n",
            "target            0 YH-FDVPDCWAHRYWVENPQAIAQM-E------QICFN-WFPSMMMK-------QPHV--\n",
            "                  0 ||--||----||----|.--|||||-.------|||.|--|||||||-------..||--\n",
            "query             0 YHE-DV----AH----ED--AIAQMVNTFGFVWQICLNQ-FPSMMMKIYWIAVLSAHVAD\n",
            "\n",
            "target           42 -FKV-DHHMSCRWLPIRGKKCSSCCTRMRVRTVWE 75\n",
            "                 60 --|.-..|||||||||----.|..|.||||||||| 95\n",
            "query            48 R-KTWSKHMSCRWLPI----ISATCARMRVRTVWE 78\n",
            "\n",
            "Score: 222.0\n",
            "target            0 YHF-DVPDCWAHRYWVENPQAIAQM-E------QICFNWFPSMMMK-------QPHV---\n",
            "                  0 ||--||----||----|.--|||||-.------|||.|.|||||||-------..||---\n",
            "query             0 YH-EDV----AH----ED--AIAQMVNTFGFVWQICLNQFPSMMMKIYWIAVLSAHVADR\n",
            "\n",
            "target           42 FKV-DHHMSCRWLPIRGKKCSSCCTRMRVRTVWE 75\n",
            "                 60 -|.-..|||||||||----.|..|.||||||||| 94\n",
            "query            49 -KTWSKHMSCRWLPI----ISATCARMRVRTVWE 78\n",
            "\n",
            "Score: 222.0\n",
            "target            0 YH-FDVPDCWAHRYWVENPQAIAQM-E------QICFNWFPSMMMK-------QPHV---\n",
            "                  0 ||--||----||----|.--|||||-.------|||.|.|||||||-------..||---\n",
            "query             0 YHE-DV----AH----ED--AIAQMVNTFGFVWQICLNQFPSMMMKIYWIAVLSAHVADR\n",
            "\n",
            "target           42 FKV-DHHMSCRWLPIRGKKCSSCCTRMRVRTVWE 75\n",
            "                 60 -|.-..|||||||||----.|..|.||||||||| 94\n",
            "query            49 -KTWSKHMSCRWLPI----ISATCARMRVRTVWE 78\n",
            "\n"
          ]
        }
      ]
    },
    {
      "cell_type": "code",
      "execution_count": 38,
      "metadata": {
        "colab": {
          "base_uri": "https://localhost:8080/"
        },
        "id": "l61aMeXqQkTu",
        "outputId": "1e61b353-1840-4e4a-8da6-9fc3a8714546"
      },
      "outputs": [
        {
          "output_type": "stream",
          "name": "stdout",
          "text": [
            "Score: 150.0\n",
            "target            0 YHFDVPDCWAHRYWVENPQAIAQME-------QICFNWFPSMMMK-------QPHVF---\n",
            "                  0 ||.||----||.------.|||||.-------|||.|.|||||||-------..||.---\n",
            "query             0 YHEDV----AHE------DAIAQMVNTFGFVWQICLNQFPSMMMKIYWIAVLSAHVADRK\n",
            "\n",
            "target           43 KVDHHMSCRWLPIRGKKCSSCCTRMRVRTVWE 75\n",
            "                 60 ....|||||||||----.|..|.||||||||| 92\n",
            "query            50 TWSKHMSCRWLPI----ISATCARMRVRTVWE 78\n",
            "\n",
            "Score: 150.0\n",
            "target            0 YHFDVPDCWAHRYWVENPQAIAQME-------QICFNWFPSMMMK-------QPHVFK--\n",
            "                  0 ||.||----||.------.|||||.-------|||.|.|||||||-------..||..--\n",
            "query             0 YHEDV----AHE------DAIAQMVNTFGFVWQICLNQFPSMMMKIYWIAVLSAHVADRK\n",
            "\n",
            "target           44 -VDHHMSCRWLPIRGKKCSSCCTRMRVRTVWE 75\n",
            "                 60 -...|||||||||----.|..|.||||||||| 92\n",
            "query            50 TWSKHMSCRWLPI----ISATCARMRVRTVWE 78\n",
            "\n",
            "Score: 150.0\n",
            "target            0 YHFDVPDCWAHRYWVENPQAIAQME-------QICFNWFPSMMMK-------QPHVF--K\n",
            "                  0 ||.||----||.------.|||||.-------|||.|.|||||||-------..||.--|\n",
            "query             0 YHEDV----AHE------DAIAQMVNTFGFVWQICLNQFPSMMMKIYWIAVLSAHVADRK\n",
            "\n",
            "target           44 V-DHHMSCRWLPIRGKKCSSCCTRMRVRTVWE 75\n",
            "                 60 .-..|||||||||----.|..|.||||||||| 92\n",
            "query            50 TWSKHMSCRWLPI----ISATCARMRVRTVWE 78\n",
            "\n",
            "Score: 150.0\n",
            "target            0 YHFDVPDCWAHRYWVENPQAIAQME-------QICFNWFPSMMMK-------QPHVFKV-\n",
            "                  0 ||.||----||.------.|||||.-------|||.|.|||||||-------..||...-\n",
            "query             0 YHEDV----AHE------DAIAQMVNTFGFVWQICLNQFPSMMMKIYWIAVLSAHVADRK\n",
            "\n",
            "target           45 --DHHMSCRWLPIRGKKCSSCCTRMRVRTVWE 75\n",
            "                 60 --..|||||||||----.|..|.||||||||| 92\n",
            "query            50 TWSKHMSCRWLPI----ISATCARMRVRTVWE 78\n",
            "\n",
            "Score: 150.0\n",
            "target            0 YHFDVPDCWAHRYWVENPQAIAQME-------QICFNWFPSMMMK-------QPHVFKVD\n",
            "                  0 ||.||----||.------.|||||.-------|||.|.|||||||-------..||--.|\n",
            "query             0 YHEDV----AHE------DAIAQMVNTFGFVWQICLNQFPSMMMKIYWIAVLSAHV--AD\n",
            "\n",
            "target           46 H-----HMSCRWLPIRGKKCSSCCTRMRVRTVWE 75\n",
            "                 60 .-----|||||||||----.|..|.||||||||| 94\n",
            "query            48 RKTWSKHMSCRWLPI----ISATCARMRVRTVWE 78\n",
            "\n"
          ]
        }
      ],
      "source": [
        "align_sequences_biopython(\n",
        "    sample3_sequence1,\n",
        "    sample3_sequence2,\n",
        "    {\"penalty_type\": \"affine\", \"gap_penalty\": -10, \"gap_extension_penalty\": -1},\n",
        ")\n"
      ],
      "id": "l61aMeXqQkTu"
    },
    {
      "cell_type": "markdown",
      "source": [
        "#### Sample 4"
      ],
      "metadata": {
        "id": "sGhBMWX5Rmn4"
      },
      "id": "sGhBMWX5Rmn4"
    },
    {
      "cell_type": "code",
      "source": [
        "seq7 = \"SKGSLWLWMCKDKLGENLVVFNNVLGAGLFDEPHYPCVEWYDFVR\"\n",
        "seq8 = \"SHKGSLNWLGWNCKDKLGENLVVFPNYLFAAHFEPHYPCIVEYDFVD\"\n",
        "\n",
        "\n",
        "align_sequences_biopython(\n",
        "    seq7,\n",
        "    seq8,\n",
        "    {\"penalty_type\": \"affine\", \"gap_penalty\": -10, \"gap_extension_penalty\": -1},\n",
        ")\n",
        "\n"
      ],
      "metadata": {
        "colab": {
          "base_uri": "https://localhost:8080/"
        },
        "id": "b-TVzgE3PvIz",
        "outputId": "03710df0-73b4-4ab8-87cb-d592acf76211"
      },
      "id": "b-TVzgE3PvIz",
      "execution_count": 36,
      "outputs": [
        {
          "output_type": "stream",
          "name": "stdout",
          "text": [
            "Score: 144.0\n",
            "target            0 S-KGSL-WL-WMCKDKLGENLVVFNNVLGAGLFDEPHYPCVEWYDFVR 45\n",
            "                  0 |-||||-||-|.||||||||||||.|.|.|..|-||||||...||||. 48\n",
            "query             0 SHKGSLNWLGWNCKDKLGENLVVFPNYLFAAHF-EPHYPCIVEYDFVD 47\n",
            "\n"
          ]
        }
      ]
    },
    {
      "cell_type": "markdown",
      "source": [
        "####Sample 5\n",
        "\n",
        "\n",
        "\n",
        "\n"
      ],
      "metadata": {
        "id": "PnMvkCXXUtDp"
      },
      "id": "PnMvkCXXUtDp"
    },
    {
      "cell_type": "code",
      "source": [
        "seq9 = \"DAHGDMWNYFRANETVAWEWFPHHAQFLHCELPKDK\"\n",
        "seq10 = \"DAHGGCDWNYFANELTVMWEHFNPHAQFLHCELEYMDL\"\n",
        "\n",
        "align_sequences_biopython(\n",
        "    seq9,\n",
        "    seq10,\n",
        "    {\"penalty_type\": \"affine\", \"gap_penalty\": -10, \"gap_extension_penalty\": -1},\n",
        ")\n"
      ],
      "metadata": {
        "colab": {
          "base_uri": "https://localhost:8080/"
        },
        "id": "Q4cg4tXBQSPs",
        "outputId": "43e4d80f-60d0-439b-b061-e540800d7f78"
      },
      "id": "Q4cg4tXBQSPs",
      "execution_count": 39,
      "outputs": [
        {
          "output_type": "stream",
          "name": "stdout",
          "text": [
            "Score: 106.0\n",
            "target            0 DAHGDM-WNYFRANE-TVAWEWFPHHAQFLHCELP-KDK 36\n",
            "                  0 ||||..-||||-|||-||.||.|..|||||||||.-.|. 39\n",
            "query             0 DAHGGCDWNYF-ANELTVMWEHFNPHAQFLHCELEYMDL 38\n",
            "\n"
          ]
        }
      ]
    }
  ],
  "metadata": {
    "kernelspec": {
      "display_name": "Python 3",
      "name": "python3"
    },
    "language_info": {
      "codemirror_mode": {
        "name": "ipython",
        "version": 3
      },
      "file_extension": ".py",
      "mimetype": "text/x-python",
      "name": "python",
      "nbconvert_exporter": "python",
      "pygments_lexer": "ipython3",
      "version": "3.10.12"
    },
    "vscode": {
      "interpreter": {
        "hash": "334e94759777c3da5b8a0d438165f334a0a40238f3139ad4907d9f899d5ca59e"
      }
    },
    "colab": {
      "provenance": [],
      "toc_visible": true,
      "gpuType": "T4"
    },
    "accelerator": "GPU"
  },
  "nbformat": 4,
  "nbformat_minor": 5
}